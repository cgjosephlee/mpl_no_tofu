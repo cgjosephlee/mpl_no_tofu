{
 "cells": [
  {
   "cell_type": "code",
   "execution_count": 5,
   "id": "ec80d0bf",
   "metadata": {},
   "outputs": [
    {
     "name": "stdout",
     "output_type": "stream",
     "text": [
      "Processing /Users/josephlee/Documents/repo/mpl_no_tofu\n",
      "  Preparing metadata (setup.py) ... \u001b[?25ldone\n",
      "\u001b[?25hRequirement already satisfied: protobuf==3.* in /usr/local/Caskroom/miniconda/base/envs/dev_font/lib/python3.8/site-packages (from mpl-no-tofu==0.1) (3.20.2)\n",
      "Requirement already satisfied: matplotlib in /usr/local/Caskroom/miniconda/base/envs/dev_font/lib/python3.8/site-packages (from mpl-no-tofu==0.1) (3.6.2)\n",
      "Requirement already satisfied: numpy>=1.19 in /usr/local/Caskroom/miniconda/base/envs/dev_font/lib/python3.8/site-packages (from matplotlib->mpl-no-tofu==0.1) (1.23.5)\n",
      "Requirement already satisfied: pillow>=6.2.0 in /usr/local/Caskroom/miniconda/base/envs/dev_font/lib/python3.8/site-packages (from matplotlib->mpl-no-tofu==0.1) (9.3.0)\n",
      "Requirement already satisfied: fonttools>=4.22.0 in /usr/local/Caskroom/miniconda/base/envs/dev_font/lib/python3.8/site-packages (from matplotlib->mpl-no-tofu==0.1) (4.38.0)\n",
      "Requirement already satisfied: pyparsing>=2.2.1 in /usr/local/Caskroom/miniconda/base/envs/dev_font/lib/python3.8/site-packages (from matplotlib->mpl-no-tofu==0.1) (3.0.9)\n",
      "Requirement already satisfied: packaging>=20.0 in /usr/local/Caskroom/miniconda/base/envs/dev_font/lib/python3.8/site-packages (from matplotlib->mpl-no-tofu==0.1) (22.0)\n",
      "Requirement already satisfied: python-dateutil>=2.7 in /usr/local/Caskroom/miniconda/base/envs/dev_font/lib/python3.8/site-packages (from matplotlib->mpl-no-tofu==0.1) (2.8.2)\n",
      "Requirement already satisfied: kiwisolver>=1.0.1 in /usr/local/Caskroom/miniconda/base/envs/dev_font/lib/python3.8/site-packages (from matplotlib->mpl-no-tofu==0.1) (1.4.4)\n",
      "Requirement already satisfied: contourpy>=1.0.1 in /usr/local/Caskroom/miniconda/base/envs/dev_font/lib/python3.8/site-packages (from matplotlib->mpl-no-tofu==0.1) (1.0.6)\n",
      "Requirement already satisfied: cycler>=0.10 in /usr/local/Caskroom/miniconda/base/envs/dev_font/lib/python3.8/site-packages (from matplotlib->mpl-no-tofu==0.1) (0.11.0)\n",
      "Requirement already satisfied: six>=1.5 in /usr/local/Caskroom/miniconda/base/envs/dev_font/lib/python3.8/site-packages (from python-dateutil>=2.7->matplotlib->mpl-no-tofu==0.1) (1.16.0)\n",
      "Building wheels for collected packages: mpl-no-tofu\n",
      "  Building wheel for mpl-no-tofu (setup.py) ... \u001b[?25ldone\n",
      "\u001b[?25h  Created wheel for mpl-no-tofu: filename=mpl_no_tofu-0.1-py3-none-any.whl size=13818 sha256=8405b9fc543669faa1393e43d612bb7af314b4d8e415ebd5aa67aff67258e3a9\n",
      "  Stored in directory: /private/var/folders/v6/fg0bzlmj4djgtscq2m_t4z000000gn/T/pip-ephem-wheel-cache-qxom2mq9/wheels/0e/37/32/2eed5ea2d3bcbecb218d5835a0fc98dcfc6c80d318b4ab5c98\n",
      "Successfully built mpl-no-tofu\n",
      "Installing collected packages: mpl-no-tofu\n",
      "  Attempting uninstall: mpl-no-tofu\n",
      "    Found existing installation: mpl-no-tofu 0.1\n",
      "    Uninstalling mpl-no-tofu-0.1:\n",
      "      Successfully uninstalled mpl-no-tofu-0.1\n",
      "Successfully installed mpl-no-tofu-0.1\n"
     ]
    }
   ],
   "source": [
    "!pip install -U ../"
   ]
  },
  {
   "cell_type": "code",
   "execution_count": 1,
   "id": "6d6485eb-d72b-41b2-a118-96ce9061b0aa",
   "metadata": {
    "execution": {
     "iopub.execute_input": "2022-12-09T10:16:15.655009Z",
     "iopub.status.busy": "2022-12-09T10:16:15.654765Z",
     "iopub.status.idle": "2022-12-09T10:16:16.382391Z",
     "shell.execute_reply": "2022-12-09T10:16:16.381715Z",
     "shell.execute_reply.started": "2022-12-09T10:16:15.654981Z"
    },
    "tags": []
   },
   "outputs": [],
   "source": [
    "import matplotlib\n",
    "import matplotlib.pyplot as plt\n",
    "import mpl_no_tofu"
   ]
  },
  {
   "cell_type": "code",
   "execution_count": 2,
   "id": "0e1d7ee7-bdfd-4c0a-8437-69ed4aa458b3",
   "metadata": {
    "execution": {
     "iopub.execute_input": "2022-12-09T10:16:16.383945Z",
     "iopub.status.busy": "2022-12-09T10:16:16.383685Z",
     "iopub.status.idle": "2022-12-09T10:16:16.393374Z",
     "shell.execute_reply": "2022-12-09T10:16:16.392676Z",
     "shell.execute_reply.started": "2022-12-09T10:16:16.383913Z"
    },
    "tags": []
   },
   "outputs": [],
   "source": [
    "def test_plot():\n",
    "    names = [\"繁體中文\", \"简体中文\", \"にほんご\", \"한국어\"]\n",
    "    values = [1, 2, 3, 4]\n",
    "    plt.bar(names, values)\n",
    "    plt.show()"
   ]
  },
  {
   "cell_type": "code",
   "execution_count": 3,
   "id": "c53f635f-5339-46d1-b3de-f27b18121e49",
   "metadata": {
    "execution": {
     "iopub.execute_input": "2022-12-09T10:16:16.395100Z",
     "iopub.status.busy": "2022-12-09T10:16:16.394828Z",
     "iopub.status.idle": "2022-12-09T10:16:16.644285Z",
     "shell.execute_reply": "2022-12-09T10:16:16.643521Z",
     "shell.execute_reply.started": "2022-12-09T10:16:16.395067Z"
    },
    "tags": []
   },
   "outputs": [
    {
     "name": "stderr",
     "output_type": "stream",
     "text": [
      "/usr/local/Caskroom/miniconda/base/envs/dev_font/lib/python3.8/site-packages/IPython/core/pylabtools.py:152: UserWarning: Glyph 32321 (\\N{CJK UNIFIED IDEOGRAPH-7E41}) missing from current font.\n",
      "  fig.canvas.print_figure(bytes_io, **kw)\n",
      "/usr/local/Caskroom/miniconda/base/envs/dev_font/lib/python3.8/site-packages/IPython/core/pylabtools.py:152: UserWarning: Glyph 39636 (\\N{CJK UNIFIED IDEOGRAPH-9AD4}) missing from current font.\n",
      "  fig.canvas.print_figure(bytes_io, **kw)\n",
      "/usr/local/Caskroom/miniconda/base/envs/dev_font/lib/python3.8/site-packages/IPython/core/pylabtools.py:152: UserWarning: Glyph 20013 (\\N{CJK UNIFIED IDEOGRAPH-4E2D}) missing from current font.\n",
      "  fig.canvas.print_figure(bytes_io, **kw)\n",
      "/usr/local/Caskroom/miniconda/base/envs/dev_font/lib/python3.8/site-packages/IPython/core/pylabtools.py:152: UserWarning: Glyph 25991 (\\N{CJK UNIFIED IDEOGRAPH-6587}) missing from current font.\n",
      "  fig.canvas.print_figure(bytes_io, **kw)\n",
      "/usr/local/Caskroom/miniconda/base/envs/dev_font/lib/python3.8/site-packages/IPython/core/pylabtools.py:152: UserWarning: Glyph 31616 (\\N{CJK UNIFIED IDEOGRAPH-7B80}) missing from current font.\n",
      "  fig.canvas.print_figure(bytes_io, **kw)\n",
      "/usr/local/Caskroom/miniconda/base/envs/dev_font/lib/python3.8/site-packages/IPython/core/pylabtools.py:152: UserWarning: Glyph 20307 (\\N{CJK UNIFIED IDEOGRAPH-4F53}) missing from current font.\n",
      "  fig.canvas.print_figure(bytes_io, **kw)\n",
      "/usr/local/Caskroom/miniconda/base/envs/dev_font/lib/python3.8/site-packages/IPython/core/pylabtools.py:152: UserWarning: Glyph 12395 (\\N{HIRAGANA LETTER NI}) missing from current font.\n",
      "  fig.canvas.print_figure(bytes_io, **kw)\n",
      "/usr/local/Caskroom/miniconda/base/envs/dev_font/lib/python3.8/site-packages/IPython/core/pylabtools.py:152: UserWarning: Glyph 12411 (\\N{HIRAGANA LETTER HO}) missing from current font.\n",
      "  fig.canvas.print_figure(bytes_io, **kw)\n",
      "/usr/local/Caskroom/miniconda/base/envs/dev_font/lib/python3.8/site-packages/IPython/core/pylabtools.py:152: UserWarning: Glyph 12435 (\\N{HIRAGANA LETTER N}) missing from current font.\n",
      "  fig.canvas.print_figure(bytes_io, **kw)\n",
      "/usr/local/Caskroom/miniconda/base/envs/dev_font/lib/python3.8/site-packages/IPython/core/pylabtools.py:152: UserWarning: Glyph 12372 (\\N{HIRAGANA LETTER GO}) missing from current font.\n",
      "  fig.canvas.print_figure(bytes_io, **kw)\n",
      "/usr/local/Caskroom/miniconda/base/envs/dev_font/lib/python3.8/site-packages/IPython/core/pylabtools.py:152: UserWarning: Glyph 54620 (\\N{HANGUL SYLLABLE HAN}) missing from current font.\n",
      "  fig.canvas.print_figure(bytes_io, **kw)\n",
      "/usr/local/Caskroom/miniconda/base/envs/dev_font/lib/python3.8/site-packages/IPython/core/pylabtools.py:152: UserWarning: Glyph 44397 (\\N{HANGUL SYLLABLE GUG}) missing from current font.\n",
      "  fig.canvas.print_figure(bytes_io, **kw)\n",
      "/usr/local/Caskroom/miniconda/base/envs/dev_font/lib/python3.8/site-packages/IPython/core/pylabtools.py:152: UserWarning: Glyph 50612 (\\N{HANGUL SYLLABLE EO}) missing from current font.\n",
      "  fig.canvas.print_figure(bytes_io, **kw)\n"
     ]
    },
    {
     "data": {
      "image/png": "[encoded data removed]",
      "text/plain": [
       "<Figure size 640x480 with 1 Axes>"
      ]
     },
     "metadata": {},
     "output_type": "display_data"
    }
   ],
   "source": [
    "test_plot()"
   ]
  },
  {
   "cell_type": "code",
   "execution_count": 6,
   "id": "201a3542-0996-4169-9185-432a89c0a77f",
   "metadata": {
    "execution": {
     "iopub.execute_input": "2022-12-09T10:16:16.645867Z",
     "iopub.status.busy": "2022-12-09T10:16:16.645614Z",
     "iopub.status.idle": "2022-12-09T10:16:17.030695Z",
     "shell.execute_reply": "2022-12-09T10:16:17.030043Z",
     "shell.execute_reply.started": "2022-12-09T10:16:16.645835Z"
    },
    "tags": []
   },
   "outputs": [],
   "source": [
    "mpl_no_tofu.load_fonts(\"NotoSansTC\")"
   ]
  },
  {
   "cell_type": "code",
   "execution_count": 7,
   "id": "1387fdff-7fbd-4c56-9eb0-7ced60cc7508",
   "metadata": {
    "execution": {
     "iopub.execute_input": "2022-12-09T10:16:17.032853Z",
     "iopub.status.busy": "2022-12-09T10:16:17.032436Z",
     "iopub.status.idle": "2022-12-09T10:16:17.199691Z",
     "shell.execute_reply": "2022-12-09T10:16:17.196003Z",
     "shell.execute_reply.started": "2022-12-09T10:16:17.032818Z"
    },
    "tags": []
   },
   "outputs": [
    {
     "name": "stderr",
     "output_type": "stream",
     "text": [
      "/usr/local/Caskroom/miniconda/base/envs/dev_font/lib/python3.8/site-packages/IPython/core/pylabtools.py:152: UserWarning: Glyph 31616 (\\N{CJK UNIFIED IDEOGRAPH-7B80}) missing from current font.\n",
      "  fig.canvas.print_figure(bytes_io, **kw)\n",
      "/usr/local/Caskroom/miniconda/base/envs/dev_font/lib/python3.8/site-packages/IPython/core/pylabtools.py:152: UserWarning: Glyph 54620 (\\N{HANGUL SYLLABLE HAN}) missing from current font.\n",
      "  fig.canvas.print_figure(bytes_io, **kw)\n",
      "/usr/local/Caskroom/miniconda/base/envs/dev_font/lib/python3.8/site-packages/IPython/core/pylabtools.py:152: UserWarning: Glyph 44397 (\\N{HANGUL SYLLABLE GUG}) missing from current font.\n",
      "  fig.canvas.print_figure(bytes_io, **kw)\n",
      "/usr/local/Caskroom/miniconda/base/envs/dev_font/lib/python3.8/site-packages/IPython/core/pylabtools.py:152: UserWarning: Glyph 50612 (\\N{HANGUL SYLLABLE EO}) missing from current font.\n",
      "  fig.canvas.print_figure(bytes_io, **kw)\n"
     ]
    },
    {
     "data": {
      "image/png": "[encoded data removed]",
      "text/plain": [
       "<Figure size 640x480 with 1 Axes>"
      ]
     },
     "metadata": {},
     "output_type": "display_data"
    }
   ],
   "source": [
    "test_plot()"
   ]
  },
  {
   "cell_type": "code",
   "execution_count": 4,
   "id": "8773d578-dae8-4513-b593-f01f9ecf53a3",
   "metadata": {
    "execution": {
     "iopub.execute_input": "2022-12-09T10:16:17.201966Z",
     "iopub.status.busy": "2022-12-09T10:16:17.201676Z",
     "iopub.status.idle": "2022-12-09T10:16:17.555860Z",
     "shell.execute_reply": "2022-12-09T10:16:17.554982Z",
     "shell.execute_reply.started": "2022-12-09T10:16:17.201927Z"
    },
    "tags": []
   },
   "outputs": [],
   "source": [
    "mpl_no_tofu.load_fonts(\"NotoSansSC\")"
   ]
  },
  {
   "cell_type": "code",
   "execution_count": 5,
   "id": "511e659d-4366-4468-9b6e-9caa7a8bd354",
   "metadata": {
    "execution": {
     "iopub.execute_input": "2022-12-09T10:16:17.557441Z",
     "iopub.status.busy": "2022-12-09T10:16:17.557184Z",
     "iopub.status.idle": "2022-12-09T10:16:17.733283Z",
     "shell.execute_reply": "2022-12-09T10:16:17.732548Z",
     "shell.execute_reply.started": "2022-12-09T10:16:17.557410Z"
    },
    "tags": []
   },
   "outputs": [
    {
     "name": "stderr",
     "output_type": "stream",
     "text": [
      "/usr/local/Caskroom/miniconda/base/envs/dev_font/lib/python3.8/site-packages/IPython/core/pylabtools.py:152: UserWarning: Glyph 54620 (\\N{HANGUL SYLLABLE HAN}) missing from current font.\n",
      "  fig.canvas.print_figure(bytes_io, **kw)\n",
      "/usr/local/Caskroom/miniconda/base/envs/dev_font/lib/python3.8/site-packages/IPython/core/pylabtools.py:152: UserWarning: Glyph 44397 (\\N{HANGUL SYLLABLE GUG}) missing from current font.\n",
      "  fig.canvas.print_figure(bytes_io, **kw)\n",
      "/usr/local/Caskroom/miniconda/base/envs/dev_font/lib/python3.8/site-packages/IPython/core/pylabtools.py:152: UserWarning: Glyph 50612 (\\N{HANGUL SYLLABLE EO}) missing from current font.\n",
      "  fig.canvas.print_figure(bytes_io, **kw)\n"
     ]
    },
    {
     "data": {
      "image/png": "[encoded data removed]",
      "text/plain": [
       "<Figure size 640x480 with 1 Axes>"
      ]
     },
     "metadata": {},
     "output_type": "display_data"
    }
   ],
   "source": [
    "test_plot()"
   ]
  },
  {
   "cell_type": "code",
   "execution_count": 9,
   "id": "5cf1fb6f-f361-4e16-85ce-209e52e85688",
   "metadata": {
    "execution": {
     "iopub.execute_input": "2022-12-09T10:16:17.734808Z",
     "iopub.status.busy": "2022-12-09T10:16:17.734560Z",
     "iopub.status.idle": "2022-12-09T10:16:18.345467Z",
     "shell.execute_reply": "2022-12-09T10:16:18.344792Z",
     "shell.execute_reply.started": "2022-12-09T10:16:17.734777Z"
    },
    "tags": []
   },
   "outputs": [],
   "source": [
    "mpl_no_tofu.load_fonts(\"NotoSansKR\")"
   ]
  },
  {
   "cell_type": "code",
   "execution_count": 10,
   "id": "74d659d1-ed07-442e-ad9b-1593bfa24593",
   "metadata": {
    "execution": {
     "iopub.execute_input": "2022-12-09T10:16:18.348527Z",
     "iopub.status.busy": "2022-12-09T10:16:18.348307Z",
     "iopub.status.idle": "2022-12-09T10:16:18.492308Z",
     "shell.execute_reply": "2022-12-09T10:16:18.491674Z",
     "shell.execute_reply.started": "2022-12-09T10:16:18.348505Z"
    },
    "tags": []
   },
   "outputs": [
    {
     "name": "stderr",
     "output_type": "stream",
     "text": [
      "/usr/local/Caskroom/miniconda/base/envs/dev_font/lib/python3.8/site-packages/IPython/core/pylabtools.py:152: UserWarning: Glyph 31616 (\\N{CJK UNIFIED IDEOGRAPH-7B80}) missing from current font.\n",
      "  fig.canvas.print_figure(bytes_io, **kw)\n"
     ]
    },
    {
     "data": {
      "image/png": "[encoded data removed]",
      "text/plain": [
       "<Figure size 640x480 with 1 Axes>"
      ]
     },
     "metadata": {},
     "output_type": "display_data"
    }
   ],
   "source": [
    "test_plot()"
   ]
  },
  {
   "cell_type": "code",
   "execution_count": null,
   "id": "33133b73-9690-44a3-825e-001df6ef24f2",
   "metadata": {},
   "outputs": [],
   "source": []
  },
  {
   "cell_type": "code",
   "execution_count": 11,
   "id": "eafb168d-6061-408f-859a-209d21361015",
   "metadata": {
    "execution": {
     "iopub.execute_input": "2022-12-09T10:16:18.493715Z",
     "iopub.status.busy": "2022-12-09T10:16:18.493412Z",
     "iopub.status.idle": "2022-12-09T10:16:18.498583Z",
     "shell.execute_reply": "2022-12-09T10:16:18.497929Z",
     "shell.execute_reply.started": "2022-12-09T10:16:18.493680Z"
    },
    "tags": []
   },
   "outputs": [
    {
     "data": {
      "text/plain": [
       "['Noto Sans KR',\n",
       " 'Noto Sans SC',\n",
       " 'DejaVu Sans',\n",
       " 'Bitstream Vera Sans',\n",
       " 'Computer Modern Sans Serif',\n",
       " 'Lucida Grande',\n",
       " 'Verdana',\n",
       " 'Geneva',\n",
       " 'Lucid',\n",
       " 'Arial',\n",
       " 'Helvetica',\n",
       " 'Avant Garde',\n",
       " 'sans-serif']"
      ]
     },
     "execution_count": 11,
     "metadata": {},
     "output_type": "execute_result"
    }
   ],
   "source": [
    "mpl_no_tofu.mpl_current_fonts()"
   ]
  },
  {
   "cell_type": "code",
   "execution_count": 7,
   "id": "5588d5d5-b646-4ff3-8012-38be6be1e79c",
   "metadata": {
    "execution": {
     "iopub.execute_input": "2022-12-09T10:16:18.500340Z",
     "iopub.status.busy": "2022-12-09T10:16:18.499852Z",
     "iopub.status.idle": "2022-12-09T10:16:18.586015Z",
     "shell.execute_reply": "2022-12-09T10:16:18.585359Z",
     "shell.execute_reply.started": "2022-12-09T10:16:18.500307Z"
    },
    "tags": []
   },
   "outputs": [],
   "source": [
    "MPL_FONT = matplotlib.get_data_path() + \"/fonts/ttf\""
   ]
  },
  {
   "cell_type": "code",
   "execution_count": 8,
   "id": "b5a346a5-fe01-45ec-a819-49a660843e41",
   "metadata": {
    "execution": {
     "iopub.execute_input": "2022-12-09T10:16:18.587828Z",
     "iopub.status.busy": "2022-12-09T10:16:18.587447Z",
     "iopub.status.idle": "2022-12-09T10:16:18.834544Z",
     "shell.execute_reply": "2022-12-09T10:16:18.833807Z",
     "shell.execute_reply.started": "2022-12-09T10:16:18.587797Z"
    },
    "tags": []
   },
   "outputs": [
    {
     "name": "stdout",
     "output_type": "stream",
     "text": [
      "/usr/local/Caskroom/miniconda/base/envs/dev_font/lib/python3.8/site-packages/matplotlib/mpl-data/fonts/ttf/NotoSansKR-Black.otf\n",
      "/usr/local/Caskroom/miniconda/base/envs/dev_font/lib/python3.8/site-packages/matplotlib/mpl-data/fonts/ttf/NotoSansKR-Bold.otf\n",
      "/usr/local/Caskroom/miniconda/base/envs/dev_font/lib/python3.8/site-packages/matplotlib/mpl-data/fonts/ttf/NotoSansKR-Light.otf\n",
      "/usr/local/Caskroom/miniconda/base/envs/dev_font/lib/python3.8/site-packages/matplotlib/mpl-data/fonts/ttf/NotoSansKR-Medium.otf\n",
      "/usr/local/Caskroom/miniconda/base/envs/dev_font/lib/python3.8/site-packages/matplotlib/mpl-data/fonts/ttf/NotoSansKR-Regular.otf\n",
      "/usr/local/Caskroom/miniconda/base/envs/dev_font/lib/python3.8/site-packages/matplotlib/mpl-data/fonts/ttf/NotoSansKR-Thin.otf\n",
      "/usr/local/Caskroom/miniconda/base/envs/dev_font/lib/python3.8/site-packages/matplotlib/mpl-data/fonts/ttf/NotoSansSC-Black.otf\n",
      "/usr/local/Caskroom/miniconda/base/envs/dev_font/lib/python3.8/site-packages/matplotlib/mpl-data/fonts/ttf/NotoSansSC-Bold.otf\n",
      "/usr/local/Caskroom/miniconda/base/envs/dev_font/lib/python3.8/site-packages/matplotlib/mpl-data/fonts/ttf/NotoSansSC-Light.otf\n",
      "/usr/local/Caskroom/miniconda/base/envs/dev_font/lib/python3.8/site-packages/matplotlib/mpl-data/fonts/ttf/NotoSansSC-Medium.otf\n",
      "/usr/local/Caskroom/miniconda/base/envs/dev_font/lib/python3.8/site-packages/matplotlib/mpl-data/fonts/ttf/NotoSansSC-Regular.otf\n",
      "/usr/local/Caskroom/miniconda/base/envs/dev_font/lib/python3.8/site-packages/matplotlib/mpl-data/fonts/ttf/NotoSansSC-Thin.otf\n",
      "/usr/local/Caskroom/miniconda/base/envs/dev_font/lib/python3.8/site-packages/matplotlib/mpl-data/fonts/ttf/NotoSansTC-Black.otf\n",
      "/usr/local/Caskroom/miniconda/base/envs/dev_font/lib/python3.8/site-packages/matplotlib/mpl-data/fonts/ttf/NotoSansTC-Bold.otf\n",
      "/usr/local/Caskroom/miniconda/base/envs/dev_font/lib/python3.8/site-packages/matplotlib/mpl-data/fonts/ttf/NotoSansTC-Light.otf\n",
      "/usr/local/Caskroom/miniconda/base/envs/dev_font/lib/python3.8/site-packages/matplotlib/mpl-data/fonts/ttf/NotoSansTC-Medium.otf\n",
      "/usr/local/Caskroom/miniconda/base/envs/dev_font/lib/python3.8/site-packages/matplotlib/mpl-data/fonts/ttf/NotoSansTC-Regular.otf\n",
      "/usr/local/Caskroom/miniconda/base/envs/dev_font/lib/python3.8/site-packages/matplotlib/mpl-data/fonts/ttf/NotoSansTC-Thin.otf\n"
     ]
    }
   ],
   "source": [
    "!ls $MPL_FONT/Noto*"
   ]
  },
  {
   "cell_type": "code",
   "execution_count": null,
   "id": "d5b64294-ca7c-415c-b2d2-ebb07ba260ee",
   "metadata": {},
   "outputs": [],
   "source": []
  }
 ],
 "metadata": {
  "instance_type": "ml.t3.medium",
  "kernelspec": {
   "display_name": "dev_font",
   "language": "python",
   "name": "python3"
  },
  "language_info": {
   "codemirror_mode": {
    "name": "ipython",
    "version": 3
   },
   "file_extension": ".py",
   "mimetype": "text/x-python",
   "name": "python",
   "nbconvert_exporter": "python",
   "pygments_lexer": "ipython3",
   "version": "3.8.15"
  },
  "vscode": {
   "interpreter": {
    "hash": "5a7e0edba6c986aaa040219bd58296d59796be02b77c9e7347ed79a1e6c396f2"
   }
  }
 },
 "nbformat": 4,
 "nbformat_minor": 5
}
